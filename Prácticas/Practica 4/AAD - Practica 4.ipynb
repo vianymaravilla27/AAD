{
 "cells": [
  {
   "cell_type": "markdown",
   "metadata": {},
   "source": [
    "# Analítica Avanzada de Datos.\n",
    "---"
   ]
  },
  {
   "cell_type": "markdown",
   "metadata": {},
   "source": [
    "# Practica 4\n",
    "\n",
    "Los expertos en vino pueden identificar vinos de viñedos específicos a través del olfato y el gusto, pero los factores que confieren a los distintos vinos sus características individuales se basan en realidad en su composición química.\n",
    "\n",
    "En esta práctica, deben entrenar un modelo de clasificación para analizar las características químicas y visuales de las muestras de vino y clasificarlas en función de su cultivar (variedad de uva).\n",
    "\n",
    "> **Cita**: Este dataset le pertenece a Forina, M. et al.\n",
    ">\n",
    "> PARVUS - An Extendible Package for Data Exploration, Classification and Correlation.\n",
    "Institute of Pharmaceutical and Food Analysis and Technologies, Via Brigata Salerno,\n",
    "16147 Genoa, Italy.\n",
    ">\n",
    "> It can be downloaded from the UCI dataset repository (Dua, D. and Graff, C. (2019). [UCI Machine Learning Repository]([http://archive.ics.uci.edu/ml). Irvine, CA: University of California, School of Information and Computer Science). "
   ]
  },
  {
   "cell_type": "markdown",
   "metadata": {},
   "source": [
    "## Explorar los datos\n",
    "\n",
    "Ejecuten la siguiente celda para cargar un archivo CSV de datos de vino, que consta de 12 características numéricas y una etiqueta de clasificación con las siguientes clases:\n",
    "\n",
    "- **0** (*variedad A*)\n",
    "- **1** (*variedad B*)\n",
    "- **2** (*variedad C*)"
   ]
  },
  {
   "cell_type": "code",
   "execution_count": null,
   "metadata": {
    "scrolled": false
   },
   "outputs": [],
   "source": [
    "import pandas as pd\n",
    "\n",
    "cargar el dataset de entrenamiento\n",
    "data = pd.read_csv('wine.csv')\n",
    "data.sample(10)"
   ]
  },
  {
   "cell_type": "markdown",
   "metadata": {},
   "source": [
    "> **La práctica consiste en explorar los datos y entrenar un modelo de clasificación que alcance una métrica Recall global superior a 0.95 (95%)**"
   ]
  },
  {
   "cell_type": "markdown",
   "metadata": {},
   "source": [
    "## Entrenar y evaluar un modelo\n",
    "\n",
    "Añada las celdas de código y celdas necesarias para explorar los datos, entrenar un modelo y evaluar el rendimiento predictivo del modelo."
   ]
  },
  {
   "cell_type": "code",
   "execution_count": null,
   "metadata": {
    "tags": []
   },
   "outputs": [],
   "source": [
    "# Su código para evaluar datos, entrenar y evaluar su modelo de clasificación"
   ]
  },
  {
   "cell_type": "markdown",
   "metadata": {},
   "source": [
    "## Prueben su modelo con datos desconocidos\n",
    "\n",
    "Cuando estén satisfecho con el rendimiento predictivo de su modelo, guárdenlo y utilícenlo para predecir las clases de las dos nuevas muestras de vino siguientes:\n",
    "\n",
    "- \\[13.72,1.43,2.5,16.7,108,3.4,3.67,0.19,2.04,6.8,0.89,2.87,1285\\]\n",
    "- \\[12.37,0.94,1.36,10.6,88,1.98,0.57,0.28,0.42,1.95,1.05,1.82,520\\]\n"
   ]
  },
  {
   "cell_type": "code",
   "execution_count": null,
   "metadata": {
    "tags": []
   },
   "outputs": [],
   "source": [
    "# Su código para predecir las clases de las dos nuevas muestras, no olvides anotar sus resultados"
   ]
  }
 ],
 "metadata": {
  "kernelspec": {
   "display_name": "Python 3",
   "language": "python",
   "name": "python3"
  },
  "language_info": {
   "codemirror_mode": {
    "name": "ipython",
    "version": 3
   },
   "file_extension": ".py",
   "mimetype": "text/x-python",
   "name": "python",
   "nbconvert_exporter": "python",
   "pygments_lexer": "ipython3",
   "version": "3.8.5"
  }
 },
 "nbformat": 4,
 "nbformat_minor": 2
}
