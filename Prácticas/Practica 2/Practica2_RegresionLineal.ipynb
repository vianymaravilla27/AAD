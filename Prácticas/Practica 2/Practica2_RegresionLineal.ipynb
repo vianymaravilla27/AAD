{
 "cells": [
  {
   "cell_type": "markdown",
   "metadata": {},
   "source": [
    "# Analítica Avanzada de Datos.\n",
    "---"
   ]
  },
  {
   "cell_type": "markdown",
   "metadata": {},
   "source": [
    " FECHA DE ENTREGA: **Miercoles 12 de Abril**"
   ]
  },
  {
   "cell_type": "markdown",
   "metadata": {},
   "source": [
    "## Práctica 2. Regresión Lineal\n"
   ]
  },
  {
   "cell_type": "markdown",
   "metadata": {},
   "source": [
    " Utilizando el dataset *Air Quality Dataset* (AirQualityUCI.csv) y cuya descripción es la siguiente:\n",
    "\n",
    "El dataset contiene **9357** instancias de respuestas promediadas cada hora de un conjunto de *5 sensores químicos* de óxido metálico integrados en un dispositivo multisensor químico de calidad del aire. El dispositivo estaba situado sobre el terreno en una zona significativamente contaminada, a nivel de carretera, dentro de una ciudad italiana. Los datos se registraron de marzo de 2004 a febrero de 2005 (un año), lo que representa el periodo más largo de registros disponibles de respuestas de dispositivos de sensores químicos de calidad del aire desplegados sobre el terreno. Las concentraciones medias horarias reales de CO, hidrocarburos no metánicos, benceno, óxidos de nitrógeno (NOx) y dióxido de nitrógeno (NO2) fueron proporcionadas por un analizador certificado de referencia situado en el mismo lugar. Existen evidencias de sensibilidades cruzadas, así como de desviaciones del concepto y del sensor, tal como se describe en De Vito et al., Sens. And Act. B, Vol. 129,2,2008 (cita requerida) afectando eventualmente a las capacidades de estimación de concentración de los sensores. Los **valores perdidos** se marcan con el valor **-200**.\n",
    "\n",
    "https://archive.ics.uci.edu/ml/datasets/Air+quality"
   ]
  },
  {
   "cell_type": "markdown",
   "metadata": {},
   "source": [
    "Sus atributos son:\n",
    "\n",
    "0. Fecha (DD/MM/AAAA)\n",
    "1. Hora (HH.MM.SS)\n",
    "2. Concentración media horaria real de CO en mg/m^3 (analizador de referencia)\n",
    "3. Respuesta media horaria del sensor PT08.S1 (óxido de estaño) (nominalmente dirigido a CO)\n",
    "4. Promedio horario real de la concentración total de hidrocarburos no metánicos en microg/m^3 (analizador de referencia)\n",
    "5. Concentración media horaria real de benceno en microg/m^3 (analizador de referencia)\n",
    "6. Respuesta media horaria del sensor PT08.S2 (titania) (objetivo nominal NMHC)\n",
    "7. Concentración de NOx media horaria real en ppb (analizador de referencia)\n",
    "8. PT08.S3 (óxido de tungsteno) respuesta media horaria del sensor (objetivo nominal NOx)\n",
    "9. Concentración de NO2 real media horaria en microg/m^3 (analizador de referencia)\n",
    "10. PT08.S4 (óxido de tungsteno) respuesta media horaria del sensor (objetivo nominal NO2)\n",
    "11. PT08.S5 (óxido de indio) respuesta media horaria del sensor (objetivo nominal O3)\n",
    "12. Temperatura en Â°C\n",
    "13. Humedad relativa (%)\n",
    "14. AH Humedad absoluta"
   ]
  },
  {
   "cell_type": "markdown",
   "metadata": {},
   "source": [
    "Utilizando este Dataset y los modelos de regresión vistos en la unidad, contesta la siguiente pregunta:\n",
    "- **¿En que horarios se tiene la mayor contaminación del aire?**\n",
    "\n",
    "1. Debes analizar:\n",
    "    - Si existen valores perdidos\n",
    "    - Elegir las características más apropiadas\n",
    "    - Calcular la correlación estadística\n",
    "\n",
    "2. Con base en tu análisis previo, entrena el modelo de regresión (hold out 70% - 30%)\n",
    "3. Evalua tu modelo entrenado calculando:\n",
    "    - MSE\n",
    "    - RMSE\n",
    "    - R-squared\n",
    "4. Escribe una breve conclusión de los resultados de tu análisis completo"
   ]
  },
  {
   "cell_type": "code",
   "execution_count": null,
   "metadata": {},
   "outputs": [],
   "source": []
  }
 ],
 "metadata": {
  "kernelspec": {
   "display_name": "Python 3",
   "language": "python",
   "name": "python3"
  },
  "language_info": {
   "codemirror_mode": {
    "name": "ipython",
    "version": 3
   },
   "file_extension": ".py",
   "mimetype": "text/x-python",
   "name": "python",
   "nbconvert_exporter": "python",
   "pygments_lexer": "ipython3",
   "version": "3.8.5"
  }
 },
 "nbformat": 4,
 "nbformat_minor": 4
}
