{
 "cells": [
  {
   "cell_type": "markdown",
   "metadata": {},
   "source": [
    "# Analítica Avanzada de Datos. - Práctica 1\n",
    "---"
   ]
  },
  {
   "cell_type": "markdown",
   "metadata": {},
   "source": [
    "Ahora es tu turno de analizar un banco de datos del mundo real que contiene datos de vuelos del Departamento de Transporte de Estados Unidos"
   ]
  },
  {
   "cell_type": "markdown",
   "metadata": {},
   "source": [
    "Primero carga y visualiza los datos. (flights.csv)"
   ]
  },
  {
   "cell_type": "code",
   "execution_count": null,
   "metadata": {},
   "outputs": [],
   "source": []
  },
  {
   "cell_type": "markdown",
   "metadata": {},
   "source": [
    "El banco de datos contiene observaciones de los vuelos nacionales estadounidenses en 2013 y consta de los siguientes campos:\n",
    "- **Año**: El año del vuelo (todos los registros son de 2013).\n",
    "- **Mes**: El mes del vuelo\n",
    "- **DayofMonth** (día del mes): El día del mes en el que salió el vuelo\n",
    "- **Día de la semana**: El día de la semana en que salió el vuelo - del 1 (lunes) al 7 (domingo)\n",
    "- **Compañía aérea**: La abreviatura de dos letras de la compañía aérea.\n",
    "- **OriginAirportID**: Identificador numérico único del aeropuerto de salida.\n",
    "- **OriginAirportName**: El nombre completo del aeropuerto de salida\n",
    "- **OriginCity** (Ciudad de origen): Ciudad del aeropuerto de salida\n",
    "- **OriginState**: Estado del aeropuerto de salida Estado del aeropuerto de salida\n",
    "- **DestAirportID**: Identificador numérico único del aeropuerto de destino\n",
    "- **DestAirportName**: El nombre completo del aeropuerto de destino\n",
    "- **DestCity**: La ciudad del aeropuerto de destino\n",
    "- **DestState**: El estado del aeropuerto de destino\n",
    "- **CRSDepTime**: La hora de salida programada\n",
    "- **DepDelay**: El número de minutos que se retrasó la salida (los vuelos que salieron antes de lo previsto tienen un valor negativo)\n",
    "- **DelDelay15**: Un indicador binario de que la salida se retrasó más de 15 minutos (y por lo tanto se considera \"tarde\")\n",
    "- **CRSArrTime**: La hora de llegada programada\n",
    "- **ArrDelay**: El número de minutos que se retrasó la lleg"
   ]
  },
  {
   "cell_type": "markdown",
   "metadata": {},
   "source": [
    "Lo que se tiene que hacer en esta práctica es explorar los datos de vuelo para analizar los posibles factores que afectan a los retrasos en la salida o llegada de un vuelo."
   ]
  },
  {
   "cell_type": "markdown",
   "metadata": {},
   "source": [
    " 1. Empieza con limpiar los datos.\n",
    "     - Identifica los datos nulos o ausentes e imputa los valores de sustitución adecuados.\n",
    "     - Identifica y elimina cualquier valor atípico en las columnas *DepDelay* y *ArrDelay*.\n",
    "             - Tips: \n",
    "            - Primero visualiza la distribución de las columnas\n",
    "            - Define donde se observan los valores atipicos \n",
    "            - Recorta los datos de tal forma que los percentiles esten entre 1 y 90\n",
    " 2. Explora los datos limpios.\n",
    "     - Consulta las estadísticas de resumen de los campos numéricos del conjunto de datos.\n",
    "     - Determina la distribución de las columnas *DepDelay* y *ArrDelay*.\n",
    "     - Utiliza estadísticas, funciones de agregación y visualización para responder a las siguientes preguntas:\n",
    "         - *¿Cuáles son los promedios (mean) de salida y llegada?*\n",
    "         - *¿Cómo se comparan las compañías en cuanto a retrasos en las llegadas?*\n",
    "         - *¿Hay días de la semana más propensos a las llegadas que otros?*\n",
    "         - *¿Cuál es el aeropuerto de salida con mayor retraso medio?*\n",
    "         - *¿Las salidas tardías suelen provocar mayores retrasos en las llegadas que las salidas puntuales?*\n",
    "         - *¿Qué ruta (del aeropuerto de origen al aeropuerto de destino) tiene más llegadas con retraso?*\n",
    "         - *¿Qué ruta tiene el mayor retraso medio de llegada?*"
   ]
  },
  {
   "cell_type": "code",
   "execution_count": null,
   "metadata": {},
   "outputs": [],
   "source": [
    "#escribe tu código aqui"
   ]
  }
 ],
 "metadata": {
  "kernelspec": {
   "display_name": "Python 3",
   "language": "python",
   "name": "python3"
  },
  "language_info": {
   "codemirror_mode": {
    "name": "ipython",
    "version": 3
   },
   "file_extension": ".py",
   "mimetype": "text/x-python",
   "name": "python",
   "nbconvert_exporter": "python",
   "pygments_lexer": "ipython3",
   "version": "3.8.5"
  }
 },
 "nbformat": 4,
 "nbformat_minor": 4
}
